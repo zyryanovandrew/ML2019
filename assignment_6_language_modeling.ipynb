{
  "nbformat": 4,
  "nbformat_minor": 0,
  "metadata": {
    "kernelspec": {
      "name": "python3",
      "display_name": "Python 3"
    },
    "language_info": {
      "codemirror_mode": {
        "name": "ipython",
        "version": 3
      },
      "file_extension": ".py",
      "mimetype": "text/x-python",
      "name": "python",
      "nbconvert_exporter": "python",
      "pygments_lexer": "ipython3",
      "version": "3.6.4"
    },
    "colab": {
      "name": "Copy of Copy of Lesson 2 torchtext for language modeling.ipynb",
      "provenance": []
    },
    "accelerator": "GPU"
  },
  "cells": [
    {
      "cell_type": "code",
      "metadata": {
        "id": "O-TzENs07pHu",
        "colab_type": "code",
        "outputId": "da961396-2c8f-485a-bfcf-0cd000c1a935",
        "colab": {
          "base_uri": "https://localhost:8080/",
          "height": 442
        }
      },
      "source": [
        "!pip install bpemb"
      ],
      "execution_count": 0,
      "outputs": [
        {
          "output_type": "stream",
          "text": [
            "Collecting bpemb\n",
            "  Downloading https://files.pythonhosted.org/packages/bc/70/468a9652095b370f797ed37ff77e742b11565c6fd79eaeca5f2e50b164a7/bpemb-0.3.0-py3-none-any.whl\n",
            "Collecting sentencepiece\n",
            "\u001b[?25l  Downloading https://files.pythonhosted.org/packages/74/f4/2d5214cbf13d06e7cb2c20d84115ca25b53ea76fa1f0ade0e3c9749de214/sentencepiece-0.1.85-cp36-cp36m-manylinux1_x86_64.whl (1.0MB)\n",
            "\r\u001b[K     |▎                               | 10kB 27.7MB/s eta 0:00:01\r\u001b[K     |▋                               | 20kB 33.6MB/s eta 0:00:01\r\u001b[K     |█                               | 30kB 13.4MB/s eta 0:00:01\r\u001b[K     |█▎                              | 40kB 4.0MB/s eta 0:00:01\r\u001b[K     |█▋                              | 51kB 4.3MB/s eta 0:00:01\r\u001b[K     |██                              | 61kB 5.1MB/s eta 0:00:01\r\u001b[K     |██▏                             | 71kB 5.5MB/s eta 0:00:01\r\u001b[K     |██▌                             | 81kB 5.6MB/s eta 0:00:01\r\u001b[K     |██▉                             | 92kB 6.2MB/s eta 0:00:01\r\u001b[K     |███▏                            | 102kB 5.2MB/s eta 0:00:01\r\u001b[K     |███▌                            | 112kB 5.2MB/s eta 0:00:01\r\u001b[K     |███▉                            | 122kB 5.2MB/s eta 0:00:01\r\u001b[K     |████                            | 133kB 5.2MB/s eta 0:00:01\r\u001b[K     |████▍                           | 143kB 5.2MB/s eta 0:00:01\r\u001b[K     |████▊                           | 153kB 5.2MB/s eta 0:00:01\r\u001b[K     |█████                           | 163kB 5.2MB/s eta 0:00:01\r\u001b[K     |█████▍                          | 174kB 5.2MB/s eta 0:00:01\r\u001b[K     |█████▊                          | 184kB 5.2MB/s eta 0:00:01\r\u001b[K     |██████                          | 194kB 5.2MB/s eta 0:00:01\r\u001b[K     |██████▎                         | 204kB 5.2MB/s eta 0:00:01\r\u001b[K     |██████▋                         | 215kB 5.2MB/s eta 0:00:01\r\u001b[K     |███████                         | 225kB 5.2MB/s eta 0:00:01\r\u001b[K     |███████▎                        | 235kB 5.2MB/s eta 0:00:01\r\u001b[K     |███████▋                        | 245kB 5.2MB/s eta 0:00:01\r\u001b[K     |███████▉                        | 256kB 5.2MB/s eta 0:00:01\r\u001b[K     |████████▏                       | 266kB 5.2MB/s eta 0:00:01\r\u001b[K     |████████▌                       | 276kB 5.2MB/s eta 0:00:01\r\u001b[K     |████████▉                       | 286kB 5.2MB/s eta 0:00:01\r\u001b[K     |█████████▏                      | 296kB 5.2MB/s eta 0:00:01\r\u001b[K     |█████████▌                      | 307kB 5.2MB/s eta 0:00:01\r\u001b[K     |█████████▊                      | 317kB 5.2MB/s eta 0:00:01\r\u001b[K     |██████████                      | 327kB 5.2MB/s eta 0:00:01\r\u001b[K     |██████████▍                     | 337kB 5.2MB/s eta 0:00:01\r\u001b[K     |██████████▊                     | 348kB 5.2MB/s eta 0:00:01\r\u001b[K     |███████████                     | 358kB 5.2MB/s eta 0:00:01\r\u001b[K     |███████████▍                    | 368kB 5.2MB/s eta 0:00:01\r\u001b[K     |███████████▋                    | 378kB 5.2MB/s eta 0:00:01\r\u001b[K     |████████████                    | 389kB 5.2MB/s eta 0:00:01\r\u001b[K     |████████████▎                   | 399kB 5.2MB/s eta 0:00:01\r\u001b[K     |████████████▋                   | 409kB 5.2MB/s eta 0:00:01\r\u001b[K     |█████████████                   | 419kB 5.2MB/s eta 0:00:01\r\u001b[K     |█████████████▎                  | 430kB 5.2MB/s eta 0:00:01\r\u001b[K     |█████████████▌                  | 440kB 5.2MB/s eta 0:00:01\r\u001b[K     |█████████████▉                  | 450kB 5.2MB/s eta 0:00:01\r\u001b[K     |██████████████▏                 | 460kB 5.2MB/s eta 0:00:01\r\u001b[K     |██████████████▌                 | 471kB 5.2MB/s eta 0:00:01\r\u001b[K     |██████████████▉                 | 481kB 5.2MB/s eta 0:00:01\r\u001b[K     |███████████████▏                | 491kB 5.2MB/s eta 0:00:01\r\u001b[K     |███████████████▍                | 501kB 5.2MB/s eta 0:00:01\r\u001b[K     |███████████████▊                | 512kB 5.2MB/s eta 0:00:01\r\u001b[K     |████████████████                | 522kB 5.2MB/s eta 0:00:01\r\u001b[K     |████████████████▍               | 532kB 5.2MB/s eta 0:00:01\r\u001b[K     |████████████████▊               | 542kB 5.2MB/s eta 0:00:01\r\u001b[K     |█████████████████               | 552kB 5.2MB/s eta 0:00:01\r\u001b[K     |█████████████████▎              | 563kB 5.2MB/s eta 0:00:01\r\u001b[K     |█████████████████▋              | 573kB 5.2MB/s eta 0:00:01\r\u001b[K     |██████████████████              | 583kB 5.2MB/s eta 0:00:01\r\u001b[K     |██████████████████▎             | 593kB 5.2MB/s eta 0:00:01\r\u001b[K     |██████████████████▋             | 604kB 5.2MB/s eta 0:00:01\r\u001b[K     |███████████████████             | 614kB 5.2MB/s eta 0:00:01\r\u001b[K     |███████████████████▏            | 624kB 5.2MB/s eta 0:00:01\r\u001b[K     |███████████████████▌            | 634kB 5.2MB/s eta 0:00:01\r\u001b[K     |███████████████████▉            | 645kB 5.2MB/s eta 0:00:01\r\u001b[K     |████████████████████▏           | 655kB 5.2MB/s eta 0:00:01\r\u001b[K     |████████████████████▌           | 665kB 5.2MB/s eta 0:00:01\r\u001b[K     |████████████████████▉           | 675kB 5.2MB/s eta 0:00:01\r\u001b[K     |█████████████████████▏          | 686kB 5.2MB/s eta 0:00:01\r\u001b[K     |█████████████████████▍          | 696kB 5.2MB/s eta 0:00:01\r\u001b[K     |█████████████████████▊          | 706kB 5.2MB/s eta 0:00:01\r\u001b[K     |██████████████████████          | 716kB 5.2MB/s eta 0:00:01\r\u001b[K     |██████████████████████▍         | 727kB 5.2MB/s eta 0:00:01\r\u001b[K     |██████████████████████▊         | 737kB 5.2MB/s eta 0:00:01\r\u001b[K     |███████████████████████         | 747kB 5.2MB/s eta 0:00:01\r\u001b[K     |███████████████████████▎        | 757kB 5.2MB/s eta 0:00:01\r\u001b[K     |███████████████████████▋        | 768kB 5.2MB/s eta 0:00:01\r\u001b[K     |████████████████████████        | 778kB 5.2MB/s eta 0:00:01\r\u001b[K     |████████████████████████▎       | 788kB 5.2MB/s eta 0:00:01\r\u001b[K     |████████████████████████▋       | 798kB 5.2MB/s eta 0:00:01\r\u001b[K     |█████████████████████████       | 808kB 5.2MB/s eta 0:00:01\r\u001b[K     |█████████████████████████▏      | 819kB 5.2MB/s eta 0:00:01\r\u001b[K     |█████████████████████████▌      | 829kB 5.2MB/s eta 0:00:01\r\u001b[K     |█████████████████████████▉      | 839kB 5.2MB/s eta 0:00:01\r\u001b[K     |██████████████████████████▏     | 849kB 5.2MB/s eta 0:00:01\r\u001b[K     |██████████████████████████▌     | 860kB 5.2MB/s eta 0:00:01\r\u001b[K     |██████████████████████████▉     | 870kB 5.2MB/s eta 0:00:01\r\u001b[K     |███████████████████████████     | 880kB 5.2MB/s eta 0:00:01\r\u001b[K     |███████████████████████████▍    | 890kB 5.2MB/s eta 0:00:01\r\u001b[K     |███████████████████████████▊    | 901kB 5.2MB/s eta 0:00:01\r\u001b[K     |████████████████████████████    | 911kB 5.2MB/s eta 0:00:01\r\u001b[K     |████████████████████████████▍   | 921kB 5.2MB/s eta 0:00:01\r\u001b[K     |████████████████████████████▊   | 931kB 5.2MB/s eta 0:00:01\r\u001b[K     |█████████████████████████████   | 942kB 5.2MB/s eta 0:00:01\r\u001b[K     |█████████████████████████████▎  | 952kB 5.2MB/s eta 0:00:01\r\u001b[K     |█████████████████████████████▋  | 962kB 5.2MB/s eta 0:00:01\r\u001b[K     |██████████████████████████████  | 972kB 5.2MB/s eta 0:00:01\r\u001b[K     |██████████████████████████████▎ | 983kB 5.2MB/s eta 0:00:01\r\u001b[K     |██████████████████████████████▋ | 993kB 5.2MB/s eta 0:00:01\r\u001b[K     |██████████████████████████████▉ | 1.0MB 5.2MB/s eta 0:00:01\r\u001b[K     |███████████████████████████████▏| 1.0MB 5.2MB/s eta 0:00:01\r\u001b[K     |███████████████████████████████▌| 1.0MB 5.2MB/s eta 0:00:01\r\u001b[K     |███████████████████████████████▉| 1.0MB 5.2MB/s eta 0:00:01\r\u001b[K     |████████████████████████████████| 1.0MB 5.2MB/s \n",
            "\u001b[?25hRequirement already satisfied: requests in /usr/local/lib/python3.6/dist-packages (from bpemb) (2.21.0)\n",
            "Requirement already satisfied: tqdm in /usr/local/lib/python3.6/dist-packages (from bpemb) (4.28.1)\n",
            "Requirement already satisfied: numpy in /usr/local/lib/python3.6/dist-packages (from bpemb) (1.17.5)\n",
            "Requirement already satisfied: gensim in /usr/local/lib/python3.6/dist-packages (from bpemb) (3.6.0)\n",
            "Requirement already satisfied: certifi>=2017.4.17 in /usr/local/lib/python3.6/dist-packages (from requests->bpemb) (2019.11.28)\n",
            "Requirement already satisfied: chardet<3.1.0,>=3.0.2 in /usr/local/lib/python3.6/dist-packages (from requests->bpemb) (3.0.4)\n",
            "Requirement already satisfied: idna<2.9,>=2.5 in /usr/local/lib/python3.6/dist-packages (from requests->bpemb) (2.8)\n",
            "Requirement already satisfied: urllib3<1.25,>=1.21.1 in /usr/local/lib/python3.6/dist-packages (from requests->bpemb) (1.24.3)\n",
            "Requirement already satisfied: smart-open>=1.2.1 in /usr/local/lib/python3.6/dist-packages (from gensim->bpemb) (1.9.0)\n",
            "Requirement already satisfied: six>=1.5.0 in /usr/local/lib/python3.6/dist-packages (from gensim->bpemb) (1.12.0)\n",
            "Requirement already satisfied: scipy>=0.18.1 in /usr/local/lib/python3.6/dist-packages (from gensim->bpemb) (1.4.1)\n",
            "Requirement already satisfied: boto>=2.32 in /usr/local/lib/python3.6/dist-packages (from smart-open>=1.2.1->gensim->bpemb) (2.49.0)\n",
            "Requirement already satisfied: boto3 in /usr/local/lib/python3.6/dist-packages (from smart-open>=1.2.1->gensim->bpemb) (1.10.47)\n",
            "Requirement already satisfied: jmespath<1.0.0,>=0.7.1 in /usr/local/lib/python3.6/dist-packages (from boto3->smart-open>=1.2.1->gensim->bpemb) (0.9.4)\n",
            "Requirement already satisfied: s3transfer<0.3.0,>=0.2.0 in /usr/local/lib/python3.6/dist-packages (from boto3->smart-open>=1.2.1->gensim->bpemb) (0.2.1)\n",
            "Requirement already satisfied: botocore<1.14.0,>=1.13.47 in /usr/local/lib/python3.6/dist-packages (from boto3->smart-open>=1.2.1->gensim->bpemb) (1.13.47)\n",
            "Requirement already satisfied: docutils<0.16,>=0.10 in /usr/local/lib/python3.6/dist-packages (from botocore<1.14.0,>=1.13.47->boto3->smart-open>=1.2.1->gensim->bpemb) (0.15.2)\n",
            "Requirement already satisfied: python-dateutil<3.0.0,>=2.1; python_version >= \"2.7\" in /usr/local/lib/python3.6/dist-packages (from botocore<1.14.0,>=1.13.47->boto3->smart-open>=1.2.1->gensim->bpemb) (2.6.1)\n",
            "Installing collected packages: sentencepiece, bpemb\n",
            "Successfully installed bpemb-0.3.0 sentencepiece-0.1.85\n"
          ],
          "name": "stdout"
        }
      ]
    },
    {
      "cell_type": "code",
      "metadata": {
        "id": "R_vbDnr17pHK",
        "colab_type": "code",
        "colab": {}
      },
      "source": [
        "import numpy as np\n",
        "import torchtext\n",
        "from torchtext import data\n",
        "from torchtext.datasets import WikiText2\n",
        "from bpemb import BPEmb\n",
        "from torchtext.vocab import Vectors\n",
        "from tqdm import tqdm\n",
        "import matplotlib.pyplot as plt"
      ],
      "execution_count": 0,
      "outputs": []
    },
    {
      "cell_type": "markdown",
      "metadata": {
        "id": "sCvazJTd7pHn",
        "colab_type": "text"
      },
      "source": [
        "# 2. Preparing the Data"
      ]
    },
    {
      "cell_type": "code",
      "metadata": {
        "id": "5SocBKKFlcI9",
        "colab_type": "code",
        "outputId": "094a6c0a-a5a2-4e9b-d989-d012c92f98e7",
        "colab": {
          "base_uri": "https://localhost:8080/",
          "height": 156
        }
      },
      "source": [
        "bpemb_en = BPEmb(lang=\"en\", dim=300, vs=20000)"
      ],
      "execution_count": 0,
      "outputs": [
        {
          "output_type": "stream",
          "text": [
            "BPEmb fallback: en from vocab size 20000 to 200000\n",
            "downloading https://nlp.h-its.org/bpemb/en/en.wiki.bpe.vs200000.model\n"
          ],
          "name": "stdout"
        },
        {
          "output_type": "stream",
          "text": [
            "100%|██████████| 3776868/3776868 [00:00<00:00, 3783022.86B/s]\n"
          ],
          "name": "stderr"
        },
        {
          "output_type": "stream",
          "text": [
            "downloading https://nlp.h-its.org/bpemb/en/en.wiki.bpe.vs200000.d300.w2v.bin.tar.gz\n"
          ],
          "name": "stdout"
        },
        {
          "output_type": "stream",
          "text": [
            "100%|██████████| 224330457/224330457 [00:09<00:00, 22534341.34B/s]\n",
            "/usr/local/lib/python3.6/dist-packages/smart_open/smart_open_lib.py:402: UserWarning: This function is deprecated, use smart_open.open instead. See the migration notes for details: https://github.com/RaRe-Technologies/smart_open/blob/master/README.rst#migrating-to-the-new-open-function\n",
            "  'See the migration notes for details: %s' % _MIGRATION_NOTES_URL\n"
          ],
          "name": "stderr"
        }
      ]
    },
    {
      "cell_type": "code",
      "metadata": {
        "id": "g0rrvRnN2r_P",
        "colab_type": "code",
        "outputId": "93c5988b-0107-4def-c125-cc7fe715a993",
        "colab": {
          "base_uri": "https://localhost:8080/",
          "height": 71
        }
      },
      "source": [
        "bpemb_en.emb.save_word2vec_format('bpe_emv.vec') "
      ],
      "execution_count": 0,
      "outputs": [
        {
          "output_type": "stream",
          "text": [
            "/usr/local/lib/python3.6/dist-packages/smart_open/smart_open_lib.py:402: UserWarning: This function is deprecated, use smart_open.open instead. See the migration notes for details: https://github.com/RaRe-Technologies/smart_open/blob/master/README.rst#migrating-to-the-new-open-function\n",
            "  'See the migration notes for details: %s' % _MIGRATION_NOTES_URL\n"
          ],
          "name": "stderr"
        }
      ]
    },
    {
      "cell_type": "code",
      "metadata": {
        "id": "CYyJRw_v2Tjs",
        "colab_type": "code",
        "outputId": "be6a9289-868c-436b-edff-57f5362c4304",
        "colab": {
          "base_uri": "https://localhost:8080/",
          "height": 51
        }
      },
      "source": [
        "vectors = Vectors(name='bpe_emv.vec', cache='./')"
      ],
      "execution_count": 0,
      "outputs": [
        {
          "output_type": "stream",
          "text": [
            "  0%|          | 0/200000 [00:00<?, ?it/s]Skipping token b'200000' with 1-dimensional vector [b'300']; likely a header\n",
            "100%|█████████▉| 199546/200000 [00:18<00:00, 11169.63it/s]"
          ],
          "name": "stderr"
        }
      ]
    },
    {
      "cell_type": "code",
      "metadata": {
        "id": "n-kucAR8pY28",
        "colab_type": "code",
        "outputId": "c79daa3a-207e-49c9-950c-4745e22a82d1",
        "colab": {
          "base_uri": "https://localhost:8080/",
          "height": 119
        }
      },
      "source": [
        "TEXT = data.Field(lower=True, tokenize=bpemb_en.encode)\n",
        "train, valid, test = WikiText2.splits(TEXT)"
      ],
      "execution_count": 0,
      "outputs": [
        {
          "output_type": "stream",
          "text": [
            "downloading wikitext-2-v1.zip\n"
          ],
          "name": "stdout"
        },
        {
          "output_type": "stream",
          "text": [
            "\n",
            "wikitext-2-v1.zip:   0%|          | 0.00/4.48M [00:00<?, ?B/s]\u001b[A\n",
            "wikitext-2-v1.zip:   6%|▌         | 262k/4.48M [00:00<00:01, 2.38MB/s]\u001b[A\n",
            "wikitext-2-v1.zip:  59%|█████▉    | 2.65M/4.48M [00:00<00:00, 3.24MB/s]\u001b[A\n",
            "wikitext-2-v1.zip: 100%|██████████| 4.48M/4.48M [00:00<00:00, 18.7MB/s]\u001b[A"
          ],
          "name": "stderr"
        },
        {
          "output_type": "stream",
          "text": [
            "extracting\n"
          ],
          "name": "stdout"
        }
      ]
    },
    {
      "cell_type": "code",
      "metadata": {
        "id": "Z9BVvj6p7pIP",
        "colab_type": "code",
        "outputId": "e0095dac-78db-4c69-9eab-182344c37002",
        "colab": {
          "base_uri": "https://localhost:8080/",
          "height": 34
        }
      },
      "source": [
        "TEXT.build_vocab(train, vectors = vectors)"
      ],
      "execution_count": 0,
      "outputs": [
        {
          "output_type": "stream",
          "text": [
            "\r100%|█████████▉| 199546/200000 [00:30<00:00, 11169.63it/s]"
          ],
          "name": "stderr"
        }
      ]
    },
    {
      "cell_type": "code",
      "metadata": {
        "id": "dt3EgU3l7pIb",
        "colab_type": "code",
        "colab": {}
      },
      "source": [
        "train_iter, valid_iter, test_iter = data.BPTTIterator.splits(\n",
        "    (train, valid, test),\n",
        "    batch_size=32,\n",
        "    bptt_len=30,\n",
        "    device='cuda',\n",
        "    repeat=False)"
      ],
      "execution_count": 0,
      "outputs": []
    },
    {
      "cell_type": "code",
      "metadata": {
        "id": "ITO9ouB77pIg",
        "colab_type": "code",
        "colab": {}
      },
      "source": [
        "b = next(iter(train_iter))"
      ],
      "execution_count": 0,
      "outputs": []
    },
    {
      "cell_type": "code",
      "metadata": {
        "id": "6YUMkuse7pIl",
        "colab_type": "code",
        "outputId": "9d51d591-3a8f-4680-9f53-13150149d7cc",
        "colab": {
          "base_uri": "https://localhost:8080/",
          "height": 34
        }
      },
      "source": [
        "vars(b).keys()"
      ],
      "execution_count": 0,
      "outputs": [
        {
          "output_type": "execute_result",
          "data": {
            "text/plain": [
              "dict_keys(['batch_size', 'dataset', 'fields', 'text', 'target'])"
            ]
          },
          "metadata": {
            "tags": []
          },
          "execution_count": 10
        }
      ]
    },
    {
      "cell_type": "code",
      "metadata": {
        "id": "AcmSUpm07pIp",
        "colab_type": "code",
        "outputId": "dcddc968-9d40-4501-8c7e-c64fe21bd028",
        "colab": {
          "base_uri": "https://localhost:8080/",
          "height": 527
        }
      },
      "source": [
        "b.text[:, :3]"
      ],
      "execution_count": 0,
      "outputs": [
        {
          "output_type": "execute_result",
          "data": {
            "text/plain": [
              "tensor([[   14,    26,    46],\n",
              "        [   16,    17,  4566],\n",
              "        [ 3712,    47,     5],\n",
              "        [ 3284, 14431,    81],\n",
              "        [ 3731,   236,   138],\n",
              "        [  852,   685,  4747],\n",
              "        [   16,  3393,    36],\n",
              "        [   14,    43, 26628],\n",
              "        [   14,   919,    12],\n",
              "        [13675,   316,   231],\n",
              "        [18065,    15,    18],\n",
              "        [   97,  5731,    67],\n",
              "        [ 3712, 10336,  2671],\n",
              "        [ 3284,     3,    61],\n",
              "        [   27,    15,  7510],\n",
              "        [   58,  9238,  1427],\n",
              "        [    4,  8697,     6],\n",
              "        [    7,  1188,  2143],\n",
              "        [    9,    12,  4951],\n",
              "        [    8,     2,    10],\n",
              "        [ 3731,  2468,   207],\n",
              "        [   32,     3,    62],\n",
              "        [  753,   145,    77],\n",
              "        [   58,    13,     4],\n",
              "        [    4,  6634,     7],\n",
              "        [28014,  8914,     9],\n",
              "        [  293,  1449,     8],\n",
              "        [    3,    17,  5734],\n",
              "        [ 5232,     5, 19713],\n",
              "        [    5,    34,    35]], device='cuda:0')"
            ]
          },
          "metadata": {
            "tags": []
          },
          "execution_count": 11
        }
      ]
    },
    {
      "cell_type": "code",
      "metadata": {
        "id": "6vZ-1N-B7pIt",
        "colab_type": "code",
        "outputId": "a754ffe0-285b-436f-b4a4-46e4ab7e90f6",
        "colab": {
          "base_uri": "https://localhost:8080/",
          "height": 527
        }
      },
      "source": [
        "b.target[:, :3]"
      ],
      "execution_count": 0,
      "outputs": [
        {
          "output_type": "execute_result",
          "data": {
            "text/plain": [
              "tensor([[   16,    17,  4566],\n",
              "        [ 3712,    47,     5],\n",
              "        [ 3284, 14431,    81],\n",
              "        [ 3731,   236,   138],\n",
              "        [  852,   685,  4747],\n",
              "        [   16,  3393,    36],\n",
              "        [   14,    43, 26628],\n",
              "        [   14,   919,    12],\n",
              "        [13675,   316,   231],\n",
              "        [18065,    15,    18],\n",
              "        [   97,  5731,    67],\n",
              "        [ 3712, 10336,  2671],\n",
              "        [ 3284,     3,    61],\n",
              "        [   27,    15,  7510],\n",
              "        [   58,  9238,  1427],\n",
              "        [    4,  8697,     6],\n",
              "        [    7,  1188,  2143],\n",
              "        [    9,    12,  4951],\n",
              "        [    8,     2,    10],\n",
              "        [ 3731,  2468,   207],\n",
              "        [   32,     3,    62],\n",
              "        [  753,   145,    77],\n",
              "        [   58,    13,     4],\n",
              "        [    4,  6634,     7],\n",
              "        [28014,  8914,     9],\n",
              "        [  293,  1449,     8],\n",
              "        [    3,    17,  5734],\n",
              "        [ 5232,     5, 19713],\n",
              "        [    5,    34,    35],\n",
              "        [ 3712,    33,     2]], device='cuda:0')"
            ]
          },
          "metadata": {
            "tags": []
          },
          "execution_count": 12
        }
      ]
    },
    {
      "cell_type": "markdown",
      "metadata": {
        "id": "Mkf1n28k7pI1",
        "colab_type": "text"
      },
      "source": [
        "# 3. Training the Language Model"
      ]
    },
    {
      "cell_type": "code",
      "metadata": {
        "id": "wRIz2LMgY6Oc",
        "colab_type": "code",
        "colab": {}
      },
      "source": [
        "USE_GPU = True"
      ],
      "execution_count": 0,
      "outputs": []
    },
    {
      "cell_type": "code",
      "metadata": {
        "id": "GP1L5_U37pI3",
        "colab_type": "code",
        "colab": {}
      },
      "source": [
        "import torch\n",
        "import torch.nn as nn\n",
        "import torch.nn.functional as F\n",
        "import torch.optim as optim\n",
        "from torch.autograd import Variable as V"
      ],
      "execution_count": 0,
      "outputs": []
    },
    {
      "cell_type": "code",
      "metadata": {
        "id": "GAbbiN5T7pI6",
        "colab_type": "code",
        "colab": {}
      },
      "source": [
        "class RNNModel(nn.Module):\n",
        "    def __init__(self, ntoken, ninp, nhid, nlayers, bsz, dropout=0.5, tie_weights=True):\n",
        "        super(RNNModel, self).__init__()\n",
        "        self.nhid, self.nlayers, self.bsz = nhid, nlayers, bsz\n",
        "        self.drop = nn.Dropout(dropout)\n",
        "        self.encoder = nn.Embedding(ntoken, ninp)\n",
        "        self.rnn = nn.LSTM(ninp, nhid, nlayers, dropout=dropout)\n",
        "        self.decoder = nn.Linear(nhid, ntoken)\n",
        "        self.init_weights()\n",
        "        self.hidden = self.init_hidden(bsz) \n",
        "\n",
        "    def init_weights(self):\n",
        "        initrange = 0.1\n",
        "        self.encoder.weight.data.uniform_(-initrange, initrange)\n",
        "        self.decoder.bias.data.fill_(0)\n",
        "        self.decoder.weight.data.uniform_(-initrange, initrange)\n",
        "\n",
        "    def forward(self, input):\n",
        "        emb = self.drop(self.encoder(input))\n",
        "        output, self.hidden = self.rnn(emb, self.hidden)\n",
        "        output = self.drop(output)\n",
        "        decoded = self.decoder(output.view(output.size(0)*output.size(1), output.size(2)))\n",
        "        return decoded.view(output.size(0), output.size(1), decoded.size(1))\n",
        "\n",
        "    def init_hidden(self, bsz):\n",
        "        weight = next(self.parameters()).data\n",
        "        return (V(weight.new(self.nlayers, bsz, self.nhid).zero_().cuda()),\n",
        "                V(weight.new(self.nlayers, bsz, self.nhid).zero_()).cuda())\n",
        "    \n",
        "    def reset_history(self):\n",
        "        \"\"\"Wraps hidden states in new Variables, to detach them from their history.\"\"\"\n",
        "        self.hidden = tuple(V(v.data) for v in self.hidden)"
      ],
      "execution_count": 0,
      "outputs": []
    },
    {
      "cell_type": "code",
      "metadata": {
        "id": "Km5UFnmZ7pI-",
        "colab_type": "code",
        "colab": {}
      },
      "source": [
        "weight_matrix = TEXT.vocab.vectors"
      ],
      "execution_count": 0,
      "outputs": []
    },
    {
      "cell_type": "code",
      "metadata": {
        "id": "H0ckoJ-S7pJD",
        "colab_type": "code",
        "colab": {}
      },
      "source": [
        "model = RNNModel(weight_matrix.shape[0], weight_matrix.shape[1], 300, 2, 32)"
      ],
      "execution_count": 0,
      "outputs": []
    },
    {
      "cell_type": "code",
      "metadata": {
        "id": "e6UtWHv87pJH",
        "colab_type": "code",
        "colab": {}
      },
      "source": [
        "model.encoder.weight.data.copy_(weight_matrix);"
      ],
      "execution_count": 0,
      "outputs": []
    },
    {
      "cell_type": "code",
      "metadata": {
        "id": "9lOG-974W-q8",
        "colab_type": "code",
        "outputId": "8a0479e0-ea2a-475b-f5f5-feff202c9a38",
        "colab": {
          "base_uri": "https://localhost:8080/",
          "height": 34
        }
      },
      "source": [
        "def count_parameters(model):\n",
        "    return sum(p.numel() for p in model.parameters() if p.requires_grad)\n",
        "count_parameters(model)"
      ],
      "execution_count": 0,
      "outputs": [
        {
          "output_type": "execute_result",
          "data": {
            "text/plain": [
              "18282416"
            ]
          },
          "metadata": {
            "tags": []
          },
          "execution_count": 19
        }
      ]
    },
    {
      "cell_type": "code",
      "metadata": {
        "id": "gU-RNGtn7pJP",
        "colab_type": "code",
        "colab": {}
      },
      "source": [
        "criterion = nn.CrossEntropyLoss()\n",
        "optimizer = optim.Adam(model.parameters(), lr=0.0005, betas=(0.7, 0.99))"
      ],
      "execution_count": 0,
      "outputs": []
    },
    {
      "cell_type": "code",
      "metadata": {
        "id": "eOQXEY4lbAfe",
        "colab_type": "code",
        "colab": {}
      },
      "source": [
        "model = model.cuda()\n",
        "criterion =criterion.cuda()"
      ],
      "execution_count": 0,
      "outputs": []
    },
    {
      "cell_type": "code",
      "metadata": {
        "id": "ZdRzaW4F7pJT",
        "colab_type": "code",
        "colab": {}
      },
      "source": [
        "n_epochs = 5"
      ],
      "execution_count": 0,
      "outputs": []
    },
    {
      "cell_type": "code",
      "metadata": {
        "id": "-rJOyqAB7pJX",
        "colab_type": "code",
        "colab": {}
      },
      "source": [
        "n_tokens = weight_matrix.shape[0]"
      ],
      "execution_count": 0,
      "outputs": []
    },
    {
      "cell_type": "code",
      "metadata": {
        "id": "cZOXEKPM7pJe",
        "colab_type": "code",
        "colab": {}
      },
      "source": [
        "valid_loss = []\n",
        "train_loss = []\n",
        "\n",
        "def train_epoch(epoch, valid_loss, train_loss):\n",
        "    \"\"\"One epoch of a training loop\"\"\"\n",
        "    \n",
        "    model.train()\n",
        "\n",
        "    progress_bar = tqdm(total=len(train_iter), disable=not True, desc='Train')\n",
        "\n",
        "    for batch in train_iter:\n",
        "      \n",
        "        model.reset_history()\n",
        "        \n",
        "        optimizer.zero_grad()\n",
        "        \n",
        "        text, targets = batch.text, batch.target\n",
        "        prediction = model(text)\n",
        "    \n",
        "        loss = criterion(prediction.view(-1, n_tokens), targets.view(-1))\n",
        "        loss.backward()\n",
        "        \n",
        "        optimizer.step()\n",
        "        l = loss.data.cpu().numpy()\n",
        "        train_loss.append(l)\n",
        "        progress_bar.set_postfix(loss=np.mean(train_loss[-150:]), perplexity=np.exp(np.mean(train_loss[-150:])))\n",
        "        progress_bar.update()\n",
        "        \n",
        "   \n",
        "    with torch.no_grad():\n",
        "      val_loss = 0\n",
        "      model.eval()\n",
        "      for batch in valid_iter:\n",
        "          model.reset_history()\n",
        "          text, targets = batch.text, batch.target\n",
        "          prediction = model(text)\n",
        "          loss = criterion(prediction.view(-1, n_tokens), targets.view(-1))\n",
        "          lv = loss.data.cpu().numpy()\n",
        "          valid_loss.append(lv)\n",
        "          val_loss += lv*text.shape[0]\n",
        "          \n",
        "      val_loss /= len(valid.examples[0].text)\n",
        "    \n",
        "    print('\\nValidation Loss: {:.4f}'.format(val_loss)) "
      ],
      "execution_count": 0,
      "outputs": []
    },
    {
      "cell_type": "code",
      "metadata": {
        "id": "5LUpTQRwEUP2",
        "colab_type": "code",
        "colab": {}
      },
      "source": [
        "for instance in list(tqdm._instances):\n",
        "      tqdm._decr_instances(instance)"
      ],
      "execution_count": 0,
      "outputs": []
    },
    {
      "cell_type": "code",
      "metadata": {
        "id": "lcTCQu_H7pJi",
        "colab_type": "code",
        "outputId": "aa56dd1d-7c9c-4cde-ecf6-a51d06ce1e88",
        "colab": {
          "base_uri": "https://localhost:8080/",
          "height": 442
        }
      },
      "source": [
        "for epoch in range(1, n_epochs + 1):\n",
        "    print('\\nEpoch:{}'.format(epoch))\n",
        "    train_epoch(epoch, valid_loss, train_loss)\n",
        "    for instance in list(tqdm._instances):\n",
        "      tqdm._decr_instances(instance)"
      ],
      "execution_count": 0,
      "outputs": [
        {
          "output_type": "stream",
          "text": [
            "\rTrain:   0%|          | 0/2466 [00:00<?, ?it/s]"
          ],
          "name": "stderr"
        },
        {
          "output_type": "stream",
          "text": [
            "\n",
            "Epoch:1\n"
          ],
          "name": "stdout"
        },
        {
          "output_type": "stream",
          "text": [
            "Train: 100%|█████████▉| 2465/2466 [01:19<00:00, 29.48it/s, loss=5.37, perplexity=214]\n",
            "Train:   0%|          | 0/2466 [00:00<?, ?it/s]"
          ],
          "name": "stderr"
        },
        {
          "output_type": "stream",
          "text": [
            "\n",
            "Validation Loss: 0.1431\n",
            "\n",
            "Epoch:2\n"
          ],
          "name": "stdout"
        },
        {
          "output_type": "stream",
          "text": [
            "Train: 100%|██████████| 2466/2466 [02:46<00:00, 14.78it/s, loss=5.37, perplexity=214]\n",
            "Train:   0%|          | 0/2466 [00:00<?, ?it/s]"
          ],
          "name": "stderr"
        },
        {
          "output_type": "stream",
          "text": [
            "\n",
            "Validation Loss: 0.1373\n",
            "\n",
            "Epoch:3\n"
          ],
          "name": "stdout"
        },
        {
          "output_type": "stream",
          "text": [
            "Train: 100%|██████████| 2466/2466 [01:21<00:00, 30.93it/s, loss=5.01, perplexity=150]\n",
            "Train:   0%|          | 0/2466 [00:00<?, ?it/s]"
          ],
          "name": "stderr"
        },
        {
          "output_type": "stream",
          "text": [
            "\n",
            "Validation Loss: 0.1342\n",
            "\n",
            "Epoch:4\n"
          ],
          "name": "stdout"
        },
        {
          "output_type": "stream",
          "text": [
            "Train: 100%|█████████▉| 2465/2466 [01:21<00:00, 30.58it/s, loss=4.93, perplexity=138]\n",
            "Train:   0%|          | 0/2466 [00:00<?, ?it/s]"
          ],
          "name": "stderr"
        },
        {
          "output_type": "stream",
          "text": [
            "\n",
            "Validation Loss: 0.1321\n",
            "\n",
            "Epoch:5\n"
          ],
          "name": "stdout"
        },
        {
          "output_type": "stream",
          "text": [
            "Train: 100%|██████████| 2466/2466 [02:47<00:00, 14.69it/s, loss=4.93, perplexity=138]"
          ],
          "name": "stderr"
        },
        {
          "output_type": "stream",
          "text": [
            "\n",
            "Validation Loss: 0.1307\n"
          ],
          "name": "stdout"
        },
        {
          "output_type": "stream",
          "text": [
            "\n"
          ],
          "name": "stderr"
        }
      ]
    },
    {
      "cell_type": "code",
      "metadata": {
        "id": "uR2N6UHLDP4l",
        "colab_type": "code",
        "outputId": "bbc82eff-3870-4b51-b319-256c7a83ca89",
        "colab": {
          "base_uri": "https://localhost:8080/",
          "height": 295
        }
      },
      "source": [
        "def loss_plot(train_loss, valid_loss ):\n",
        "  plt.figure()\n",
        "  plt.subplot(211)\n",
        "\n",
        "  plt.title('Training and valid loss')\n",
        "  plt.plot(train_loss, color='red', linewidth=2, label = 'Loss train')\n",
        "  plt.legend()\n",
        "\n",
        "  plt.subplot(212)\n",
        "  plt.xlabel('Iterations')\n",
        "  plt.plot(valid_loss, color='blue', linewidth=2, label = 'Loss valid')\n",
        "  plt.legend()\n",
        "  plt.show()\n",
        "\n",
        "loss_plot(train_loss, valid_loss)"
      ],
      "execution_count": 0,
      "outputs": [
        {
          "output_type": "display_data",
          "data": {
            "image/png": "[encoded data removed]",
            "text/plain": [
              "<Figure size 432x288 with 2 Axes>"
            ]
          },
          "metadata": {
            "tags": []
          }
        }
      ]
    },
    {
      "cell_type": "code",
      "metadata": {
        "id": "RaKE5g_17pJm",
        "colab_type": "code",
        "colab": {}
      },
      "source": [
        "for instance in list(tqdm._instances):\n",
        "    tqdm._decr_instances(instance)"
      ],
      "execution_count": 0,
      "outputs": []
    },
    {
      "cell_type": "code",
      "metadata": {
        "id": "bIPr94FU7pJs",
        "colab_type": "code",
        "colab": {}
      },
      "source": [
        "b = next(iter(test_iter))"
      ],
      "execution_count": 0,
      "outputs": []
    },
    {
      "cell_type": "code",
      "metadata": {
        "id": "tnoisvx47pJv",
        "colab_type": "code",
        "colab": {}
      },
      "source": [
        "def word_ids_to_sentence(id_tensor, vocab,join=None):\n",
        "    \"\"\"Converts a sequence of word ids to a sentence\"\"\"\n",
        "    if isinstance(id_tensor, torch.LongTensor):\n",
        "        #print(id_tensor.shape)\n",
        "        ids = id_tensor.transpose(0, 1).contiguous().view(-1)\n",
        "        #print(ids.shape)\n",
        "    elif isinstance(id_tensor, np.ndarray):\n",
        "        ids = id_tensor.transpose().reshape(-1)\n",
        "\n",
        "    batch = [vocab.itos[ind] for ind in ids]  # denumericalize\n",
        "    if join is None:\n",
        "        return batch\n",
        "    else:\n",
        "        return join.join(batch)"
      ],
      "execution_count": 0,
      "outputs": []
    },
    {
      "cell_type": "code",
      "metadata": {
        "id": "ccBt01x-F7ro",
        "colab_type": "code",
        "colab": {}
      },
      "source": [
        "seed = b.text[:, 2].unsqueeze(1) #the third sentence"
      ],
      "execution_count": 0,
      "outputs": []
    },
    {
      "cell_type": "code",
      "metadata": {
        "id": "Fgx63E3z7pJx",
        "colab_type": "code",
        "outputId": "2fa8beaa-7f96-4141-f5fe-bef6a29103c0",
        "colab": {
          "base_uri": "https://localhost:8080/",
          "height": 34
        }
      },
      "source": [
        "word_ids_to_sentence(seed.cpu().data, TEXT.vocab, join='')"
      ],
      "execution_count": 0,
      "outputs": [
        {
          "output_type": "execute_result",
          "data": {
            "text/plain": [
              "'▁television▁broadcaster▁for▁the▁forerunner▁to▁<unk>▁@-@▁tv▁in▁buffalo▁.▁he▁played▁college▁football▁for▁the▁university▁of▁michigan▁wolverines▁in▁0000'"
            ]
          },
          "metadata": {
            "tags": []
          },
          "execution_count": 32
        }
      ]
    },
    {
      "cell_type": "code",
      "metadata": {
        "id": "0Mj-8KmhH9GR",
        "colab_type": "code",
        "colab": {}
      },
      "source": [
        "seed = b.text[:25, 2].unsqueeze(1)#first 25 words in the second sentence"
      ],
      "execution_count": 0,
      "outputs": []
    },
    {
      "cell_type": "code",
      "metadata": {
        "id": "L8ldUqMTuMmj",
        "colab_type": "code",
        "colab": {}
      },
      "source": [
        "def generate(seed, temp=1, max_sequence=20):\n",
        "    t = torch.nn.Softmax(-1)\n",
        "    seed = seed.cuda()\n",
        "    model.eval()\n",
        "\n",
        "    with torch.no_grad():\n",
        "\n",
        "        emb = model.encoder(seed)     \n",
        "        output, mem = model.rnn(emb)\n",
        "        decoded = model.decoder(output.view(output.size(0)*output.size(1), output.size(2)))\n",
        "        decoded = decoded.view(output.size(0), output.size(1), decoded.size(1))\n",
        "        current_token = seed[-1,:].unsqueeze(1)\n",
        "        \n",
        "        pred = []\n",
        "\n",
        "        for timestamp in range(max_sequence):\n",
        "\n",
        "            emb = model.encoder(current_token)\n",
        "            output, mem = model.rnn(emb, mem)\n",
        "            decoded = model.decoder(output.view(output.size(0)*output.size(1), output.size(2)))\n",
        "            decoded = decoded.view(output.size(0), output.size(1), decoded.size(1))\n",
        "            decoded = t(decoded/temp)           \n",
        "            pred.append(decoded)\n",
        " \n",
        "            current_token = decoded.argmax(dim=2)\n",
        "           \n",
        "        pred_ = torch.cat(pred, dim=0)\n",
        "        BS = pred\n",
        "\n",
        "    tokens = pred_.argmax(dim=-1).detach().cpu().numpy()\n",
        "    print(tokens.shape)\n",
        "    print('Seed:', word_ids_to_sentence(seed.cpu(), TEXT.vocab, join=''))\n",
        "    print('Model:', word_ids_to_sentence(tokens, TEXT.vocab, join=''))\n",
        "    return BS"
      ],
      "execution_count": 0,
      "outputs": []
    },
    {
      "cell_type": "code",
      "metadata": {
        "id": "h-PgtysNM90c",
        "colab_type": "code",
        "outputId": "3e694899-aad3-4ab1-e653-0071ab0487fe",
        "colab": {
          "base_uri": "https://localhost:8080/",
          "height": 68
        }
      },
      "source": [
        "_ =generate(seed)"
      ],
      "execution_count": 0,
      "outputs": [
        {
          "output_type": "stream",
          "text": [
            "(20, 1)\n",
            "Seed: ▁television▁broadcaster▁for▁the▁forerunner▁to▁<unk>▁@-@▁tv▁in▁buffalo▁.▁he▁played▁college▁football▁for▁the▁university\n",
            "Model: ▁of▁the▁united▁states▁,▁and▁the▁first▁year▁of▁the▁0000s▁,▁and▁the▁0000s▁was▁a\n"
          ],
          "name": "stdout"
        }
      ]
    },
    {
      "cell_type": "code",
      "metadata": {
        "id": "LKo7gqNuIDC5",
        "colab_type": "code",
        "outputId": "00b10108-281d-409b-eae2-8fc6dca262ee",
        "colab": {
          "base_uri": "https://localhost:8080/",
          "height": 68
        }
      },
      "source": [
        "_ = generate(seed, temp = 1e+5)"
      ],
      "execution_count": 0,
      "outputs": [
        {
          "output_type": "stream",
          "text": [
            "(20, 1)\n",
            "Seed: ▁television▁broadcaster▁for▁the▁forerunner▁to▁<unk>▁@-@▁tv▁in▁buffalo▁.▁he▁played▁college▁football▁for▁the▁university\n",
            "Model: ▁of▁the▁university▁of▁the▁university▁of▁the▁university▁of▁the▁university▁of▁the▁university▁of▁the▁university▁of▁the\n"
          ],
          "name": "stdout"
        }
      ]
    },
    {
      "cell_type": "code",
      "metadata": {
        "id": "cBPwovpJN9EI",
        "colab_type": "code",
        "outputId": "c7018a0e-0bdf-421d-86c4-c6ddeb4cdb28",
        "colab": {
          "base_uri": "https://localhost:8080/",
          "height": 68
        }
      },
      "source": [
        "_ = generate(seed, temp = 3.5e+7)"
      ],
      "execution_count": 0,
      "outputs": [
        {
          "output_type": "stream",
          "text": [
            "(20, 1)\n",
            "Seed: ▁television▁broadcaster▁for▁the▁forerunner▁to▁<unk>▁@-@▁tv▁in▁buffalo▁.▁he▁played▁college▁football▁for▁the▁university\n",
            "Model: ▁for▁0000▁as▁part▁of▁a▁number▁of▁players▁with▁their▁debut▁for▁0000▁–▁0▁.▁after▁0000▁,\n"
          ],
          "name": "stdout"
        }
      ]
    },
    {
      "cell_type": "code",
      "metadata": {
        "id": "QrZ2kgI2MLtq",
        "colab_type": "code",
        "outputId": "7f9271c6-7b5a-43c7-eaa7-675082384cbc",
        "colab": {
          "base_uri": "https://localhost:8080/",
          "height": 68
        }
      },
      "source": [
        "_ = generate(seed, temp = 1e+7)"
      ],
      "execution_count": 0,
      "outputs": [
        {
          "output_type": "stream",
          "text": [
            "(20, 1)\n",
            "Seed: ▁television▁broadcaster▁for▁the▁forerunner▁to▁<unk>▁@-@▁tv▁in▁buffalo▁.▁he▁played▁college▁football▁for▁the▁university\n",
            "Model: ▁of▁the▁0000s▁,▁and▁was▁also▁a▁member▁of▁the▁first▁time▁in▁0000▁.<eos><eos>▁=\n"
          ],
          "name": "stdout"
        }
      ]
    },
    {
      "cell_type": "code",
      "metadata": {
        "id": "e8eyvR8p8b54",
        "colab_type": "code",
        "colab": {}
      },
      "source": [
        ""
      ],
      "execution_count": 0,
      "outputs": []
    }
  ]
}